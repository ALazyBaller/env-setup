{
 "cells": [
  {
   "cell_type": "markdown",
   "id": "78ce45de-31a6-437c-a0fa-6059ce055d45",
   "metadata": {},
   "source": [
    "bash_tutorial"
   ]
  },
  {
   "cell_type": "markdown",
   "id": "a4e44c19-4054-44d0-ab0a-3af5b74e22cf",
   "metadata": {},
   "source": [
    "hello.sh"
   ]
  },
  {
   "cell_type": "code",
   "execution_count": 2,
   "id": "cf1d4baa-d4d4-4923-8cc2-f2700833ec4b",
   "metadata": {},
   "outputs": [
    {
     "name": "stdout",
     "output_type": "stream",
     "text": [
      "/users/PAS2797/omarw/bash_tutorial\n"
     ]
    }
   ],
   "source": [
    "!pwd"
   ]
  },
  {
   "cell_type": "code",
   "execution_count": 4,
   "id": "ad97d847-80db-46f0-bd0a-ab615acdd82b",
   "metadata": {},
   "outputs": [
    {
     "ename": "SyntaxError",
     "evalue": "invalid syntax (339777499.py, line 1)",
     "output_type": "error",
     "traceback": [
      "\u001b[0;36m  Cell \u001b[0;32mIn[4], line 1\u001b[0;36m\u001b[0m\n\u001b[0;31m    git status\u001b[0m\n\u001b[0m        ^\u001b[0m\n\u001b[0;31mSyntaxError\u001b[0m\u001b[0;31m:\u001b[0m invalid syntax\n"
     ]
    }
   ],
   "source": [
    "git status\n"
   ]
  },
  {
   "cell_type": "code",
   "execution_count": null,
   "id": "a29b0973-1394-4341-b511-616f3936424e",
   "metadata": {},
   "outputs": [],
   "source": []
  }
 ],
 "metadata": {
  "kernelspec": {
   "display_name": "Python (7030_class_1)",
   "language": "python",
   "name": "7030_class_1"
  },
  "language_info": {
   "codemirror_mode": {
    "name": "ipython",
    "version": 3
   },
   "file_extension": ".py",
   "mimetype": "text/x-python",
   "name": "python",
   "nbconvert_exporter": "python",
   "pygments_lexer": "ipython3",
   "version": "3.10.18"
  }
 },
 "nbformat": 4,
 "nbformat_minor": 5
}
