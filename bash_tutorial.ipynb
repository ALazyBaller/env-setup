{
 "cells": [
  {
   "cell_type": "code",
   "execution_count": 1,
   "id": "9de31d49-71cc-43b1-b1de-ebfcf69b27da",
   "metadata": {},
   "outputs": [
    {
     "ename": "NameError",
     "evalue": "name 'bash_tutorial' is not defined",
     "output_type": "error",
     "traceback": [
      "\u001b[0;31m---------------------------------------------------------------------------\u001b[0m",
      "\u001b[0;31mNameError\u001b[0m                                 Traceback (most recent call last)",
      "Cell \u001b[0;32mIn[1], line 1\u001b[0m\n\u001b[0;32m----> 1\u001b[0m \u001b[43mbash_tutorial\u001b[49m\n",
      "\u001b[0;31mNameError\u001b[0m: name 'bash_tutorial' is not defined"
     ]
    }
   ],
   "source": [
    "bash_tutorial"
   ]
  },
  {
   "cell_type": "code",
   "execution_count": 2,
   "id": "1d82a95b-a650-45de-95d0-e99c5a3a4a61",
   "metadata": {},
   "outputs": [
    {
     "ename": "NameError",
     "evalue": "name 'hello' is not defined",
     "output_type": "error",
     "traceback": [
      "\u001b[0;31m---------------------------------------------------------------------------\u001b[0m",
      "\u001b[0;31mNameError\u001b[0m                                 Traceback (most recent call last)",
      "Cell \u001b[0;32mIn[2], line 1\u001b[0m\n\u001b[0;32m----> 1\u001b[0m \u001b[43mhello\u001b[49m\u001b[38;5;241m.\u001b[39msh\n",
      "\u001b[0;31mNameError\u001b[0m: name 'hello' is not defined"
     ]
    }
   ],
   "source": [
    "hello.sh"
   ]
  },
  {
   "cell_type": "code",
   "execution_count": 3,
   "id": "cf1d4baa-d4d4-4923-8cc2-f2700833ec4b",
   "metadata": {},
   "outputs": [
    {
     "data": {
      "text/plain": [
       "'/users/PAS2797/omarw'"
      ]
     },
     "execution_count": 3,
     "metadata": {},
     "output_type": "execute_result"
    }
   ],
   "source": [
    "pwd"
   ]
  },
  {
   "cell_type": "code",
   "execution_count": 4,
   "id": "505051f1-be8e-4c7f-b47c-b10076ebadba",
   "metadata": {},
   "outputs": [
    {
     "ename": "NameError",
     "evalue": "name 'ls' is not defined",
     "output_type": "error",
     "traceback": [
      "\u001b[0;31m---------------------------------------------------------------------------\u001b[0m",
      "\u001b[0;31mNameError\u001b[0m                                 Traceback (most recent call last)",
      "Cell \u001b[0;32mIn[4], line 1\u001b[0m\n\u001b[0;32m----> 1\u001b[0m \u001b[43mls\u001b[49m\n\u001b[1;32m      2\u001b[0m ls \u001b[38;5;241m-\u001b[39ml\n\u001b[1;32m      3\u001b[0m ls \u001b[38;5;241m-\u001b[39ma\n",
      "\u001b[0;31mNameError\u001b[0m: name 'ls' is not defined"
     ]
    }
   ],
   "source": [
    "ls\n",
    "ls -l\n",
    "ls -a"
   ]
  },
  {
   "cell_type": "code",
   "execution_count": 5,
   "id": "c2cb1d0a-baaf-4d0c-a9d7-44f04d127091",
   "metadata": {},
   "outputs": [
    {
     "ename": "NameError",
     "evalue": "name 'ls' is not defined",
     "output_type": "error",
     "traceback": [
      "\u001b[0;31m---------------------------------------------------------------------------\u001b[0m",
      "\u001b[0;31mNameError\u001b[0m                                 Traceback (most recent call last)",
      "Cell \u001b[0;32mIn[5], line 1\u001b[0m\n\u001b[0;32m----> 1\u001b[0m \u001b[43mls\u001b[49m \u001b[38;5;241m-\u001b[39ml\n\u001b[1;32m      2\u001b[0m ls \u001b[38;5;241m-\u001b[39ma\n",
      "\u001b[0;31mNameError\u001b[0m: name 'ls' is not defined"
     ]
    }
   ],
   "source": [
    "ls -l\n",
    "ls -a"
   ]
  },
  {
   "cell_type": "code",
   "execution_count": 6,
   "id": "a8afdb6c-96ce-4a1f-aed4-f269d96e70a6",
   "metadata": {},
   "outputs": [
    {
     "ename": "SyntaxError",
     "evalue": "invalid syntax (1154186150.py, line 1)",
     "output_type": "error",
     "traceback": [
      "\u001b[0;36m  Cell \u001b[0;32mIn[6], line 1\u001b[0;36m\u001b[0m\n\u001b[0;31m    cd folder_name     # Move into a folder\u001b[0m\n\u001b[0m       ^\u001b[0m\n\u001b[0;31mSyntaxError\u001b[0m\u001b[0;31m:\u001b[0m invalid syntax\n"
     ]
    }
   ],
   "source": [
    "cd folder_name     # Move into a folder\n",
    "cd ..              # Move up one level\n",
    "cd /path/to/dir    # Go to a specific location\n",
    "cd ~               # Go to your home directory"
   ]
  },
  {
   "cell_type": "code",
   "execution_count": 7,
   "id": "6c530b83-6400-45d9-bc8a-dd58686fca4e",
   "metadata": {},
   "outputs": [
    {
     "ename": "SyntaxError",
     "evalue": "invalid syntax (2199659093.py, line 1)",
     "output_type": "error",
     "traceback": [
      "\u001b[0;36m  Cell \u001b[0;32mIn[7], line 1\u001b[0;36m\u001b[0m\n\u001b[0;31m    mkdir bash_tutorial\u001b[0m\n\u001b[0m          ^\u001b[0m\n\u001b[0;31mSyntaxError\u001b[0m\u001b[0;31m:\u001b[0m invalid syntax\n"
     ]
    }
   ],
   "source": [
    "mkdir bash_tutorial\n",
    "cd bash_tutorial"
   ]
  },
  {
   "cell_type": "code",
   "execution_count": 8,
   "id": "c2247e97-7dff-4cb6-82f9-bd45e670b321",
   "metadata": {},
   "outputs": [
    {
     "ename": "SyntaxError",
     "evalue": "invalid syntax (933993977.py, line 2)",
     "output_type": "error",
     "traceback": [
      "\u001b[0;36m  Cell \u001b[0;32mIn[8], line 2\u001b[0;36m\u001b[0m\n\u001b[0;31m    echo \"Hello, World!\"\u001b[0m\n\u001b[0m         ^\u001b[0m\n\u001b[0;31mSyntaxError\u001b[0m\u001b[0;31m:\u001b[0m invalid syntax\n"
     ]
    }
   ],
   "source": [
    "#!/bin/bash\n",
    "echo \"Hello, World!\""
   ]
  },
  {
   "cell_type": "code",
   "execution_count": 9,
   "id": "a5b889ac-9528-4cbb-8d5b-1eb6d1a39d53",
   "metadata": {},
   "outputs": [
    {
     "ename": "SyntaxError",
     "evalue": "invalid syntax (2685553277.py, line 2)",
     "output_type": "error",
     "traceback": [
      "\u001b[0;36m  Cell \u001b[0;32mIn[9], line 2\u001b[0;36m\u001b[0m\n\u001b[0;31m    echo\"Hello, World!\"\u001b[0m\n\u001b[0m        ^\u001b[0m\n\u001b[0;31mSyntaxError\u001b[0m\u001b[0;31m:\u001b[0m invalid syntax\n"
     ]
    }
   ],
   "source": [
    "#!/bin/bash\n",
    "echo\"Hello, World!\""
   ]
  },
  {
   "cell_type": "code",
   "execution_count": 10,
   "id": "687784bb-612f-4854-b02a-9fcc0688502c",
   "metadata": {},
   "outputs": [
    {
     "ename": "NameError",
     "evalue": "name 'cat' is not defined",
     "output_type": "error",
     "traceback": [
      "\u001b[0;31m---------------------------------------------------------------------------\u001b[0m",
      "\u001b[0;31mNameError\u001b[0m                                 Traceback (most recent call last)",
      "Cell \u001b[0;32mIn[10], line 2\u001b[0m\n\u001b[1;32m      1\u001b[0m \u001b[38;5;66;03m#!/usr/bin/env Rscript\u001b[39;00m\n\u001b[0;32m----> 2\u001b[0m \u001b[43mcat\u001b[49m(\u001b[38;5;124m\"\u001b[39m\u001b[38;5;124mHello, World!\u001b[39m\u001b[38;5;130;01m\\n\u001b[39;00m\u001b[38;5;124m\"\u001b[39m)\n",
      "\u001b[0;31mNameError\u001b[0m: name 'cat' is not defined"
     ]
    }
   ],
   "source": [
    "#!/usr/bin/env Rscript\n",
    "cat(\"Hello, World!\\n\")"
   ]
  },
  {
   "cell_type": "code",
   "execution_count": 11,
   "id": "1199d4a1-70ba-4ec6-9ca9-6acd25efe494",
   "metadata": {},
   "outputs": [
    {
     "name": "stdout",
     "output_type": "stream",
     "text": [
      "Hello, World!\n"
     ]
    }
   ],
   "source": [
    "#!/usr/bin/env python3\n",
    "print(\"Hello, World!\")"
   ]
  },
  {
   "cell_type": "code",
   "execution_count": 12,
   "id": "09aab355-58fa-4365-ade1-e43bf1b06e19",
   "metadata": {},
   "outputs": [
    {
     "ename": "SyntaxError",
     "evalue": "invalid syntax (933993977.py, line 2)",
     "output_type": "error",
     "traceback": [
      "\u001b[0;36m  Cell \u001b[0;32mIn[12], line 2\u001b[0;36m\u001b[0m\n\u001b[0;31m    echo \"Hello, World!\"\u001b[0m\n\u001b[0m         ^\u001b[0m\n\u001b[0;31mSyntaxError\u001b[0m\u001b[0;31m:\u001b[0m invalid syntax\n"
     ]
    }
   ],
   "source": [
    "#!/bin/bash\n",
    "echo \"Hello, World!\""
   ]
  },
  {
   "cell_type": "markdown",
   "id": "73c9c0e7-99cb-49b6-af0b-e3f46f832bac",
   "metadata": {},
   "source": [
    "#!/usr/bin/env python3"
   ]
  },
  {
   "cell_type": "code",
   "execution_count": 13,
   "id": "5a6451d2-11dc-4354-9066-ecc1d5e4dce4",
   "metadata": {},
   "outputs": [
    {
     "name": "stdout",
     "output_type": "stream",
     "text": [
      "Hello, World!\n"
     ]
    }
   ],
   "source": [
    "print(\"Hello, World!\")"
   ]
  },
  {
   "cell_type": "markdown",
   "id": "2f8c6cfb-eb3c-4157-8e7f-283ea82524cd",
   "metadata": {},
   "source": [
    "#!/bin/bash"
   ]
  },
  {
   "cell_type": "code",
   "execution_count": 14,
   "id": "1c8bc94a-97b0-4d80-afd7-c080cd2ea5a3",
   "metadata": {},
   "outputs": [
    {
     "ename": "SyntaxError",
     "evalue": "invalid syntax (924420950.py, line 1)",
     "output_type": "error",
     "traceback": [
      "\u001b[0;36m  Cell \u001b[0;32mIn[14], line 1\u001b[0;36m\u001b[0m\n\u001b[0;31m    echo \"Hello, World!\"\u001b[0m\n\u001b[0m         ^\u001b[0m\n\u001b[0;31mSyntaxError\u001b[0m\u001b[0;31m:\u001b[0m invalid syntax\n"
     ]
    }
   ],
   "source": [
    "echo \"Hello, World!\""
   ]
  },
  {
   "cell_type": "markdown",
   "id": "c360ceb9-0fe3-412c-8b83-68b54d891e61",
   "metadata": {},
   "source": [
    "#!/bin/bash"
   ]
  },
  {
   "cell_type": "code",
   "execution_count": 1,
   "id": "7abab724-c01d-4e27-bfd1-0f42c20d60a0",
   "metadata": {},
   "outputs": [
    {
     "ename": "SyntaxError",
     "evalue": "invalid syntax (924420950.py, line 1)",
     "output_type": "error",
     "traceback": [
      "\u001b[0;36m  Cell \u001b[0;32mIn[1], line 1\u001b[0;36m\u001b[0m\n\u001b[0;31m    echo \"Hello, World!\"\u001b[0m\n\u001b[0m         ^\u001b[0m\n\u001b[0;31mSyntaxError\u001b[0m\u001b[0;31m:\u001b[0m invalid syntax\n"
     ]
    }
   ],
   "source": [
    "echo \"Hello, World!\""
   ]
  },
  {
   "cell_type": "code",
   "execution_count": 2,
   "id": "be4798d3-7975-41e9-82c8-7441432b8fef",
   "metadata": {},
   "outputs": [
    {
     "ename": "SyntaxError",
     "evalue": "invalid syntax (924420950.py, line 1)",
     "output_type": "error",
     "traceback": [
      "\u001b[0;36m  Cell \u001b[0;32mIn[2], line 1\u001b[0;36m\u001b[0m\n\u001b[0;31m    echo \"Hello, World!\"\u001b[0m\n\u001b[0m         ^\u001b[0m\n\u001b[0;31mSyntaxError\u001b[0m\u001b[0;31m:\u001b[0m invalid syntax\n"
     ]
    }
   ],
   "source": [
    "echo \"Hello, World!\""
   ]
  },
  {
   "cell_type": "code",
   "execution_count": 3,
   "id": "f5d2abc5-bba5-4814-ab71-153a65267562",
   "metadata": {},
   "outputs": [
    {
     "name": "stdout",
     "output_type": "stream",
     "text": [
      "Hello, World!\n"
     ]
    }
   ],
   "source": [
    "#!/usr/bin/env python3\n",
    "print(\"Hello, World!\")"
   ]
  },
  {
   "cell_type": "code",
   "execution_count": null,
   "id": "56c935bd-beee-420d-a4cf-c6538491ef05",
   "metadata": {},
   "outputs": [],
   "source": [
    "#!/usr/bin/env python3"
   ]
  },
  {
   "cell_type": "code",
   "execution_count": 1,
   "id": "03885225-e1df-4be2-9184-2824f7527ea7",
   "metadata": {},
   "outputs": [
    {
     "name": "stdout",
     "output_type": "stream",
     "text": [
      "Hello, World!\n"
     ]
    }
   ],
   "source": [
    "#!/usr/bin/env Rscript\n",
    "cat(\"Hello, World!\\n\")"
   ]
  },
  {
   "cell_type": "code",
   "execution_count": 1,
   "id": "18bfe2f5-3bf3-43e8-aa69-d3c999b0bd5d",
   "metadata": {},
   "outputs": [
    {
     "name": "stdout",
     "output_type": "stream",
     "text": [
      "\u001b]777;preexec\u001b\\Hello, World!\n"
     ]
    },
    {
     "ename": "",
     "evalue": "1",
     "output_type": "error",
     "traceback": []
    }
   ],
   "source": [
    "#!/bin/bash\n",
    "echo \"Hello, World!\""
   ]
  },
  {
   "cell_type": "code",
   "execution_count": 2,
   "id": "90f917f0-2d0c-4d3a-a32b-a92f57c21569",
   "metadata": {
    "collapsed": true,
    "jupyter": {
     "outputs_hidden": true
    }
   },
   "outputs": [
    {
     "name": "stdout",
     "output_type": "stream",
     "text": [
      "\u001b]777;preexec\u001b\\\n",
      "(gedit:1104571): Gtk-\u001b[1;33mWARNING\u001b[0m **: \u001b[34m20:58:52.555\u001b[0m: Calling org.xfce.Session.Manager.Inhibit failed: GDBus.Error:org.freedesktop.DBus.Error.UnknownMethod: No such method “Inhibit”\n",
      "\n"
     ]
    }
   ],
   "source": [
    "gedit script_name.sh"
   ]
  },
  {
   "cell_type": "code",
   "execution_count": null,
   "id": "1c529da8-5190-4251-a8cb-6ecde4feabfc",
   "metadata": {},
   "outputs": [],
   "source": [
    "gedit script_name.sh"
   ]
  },
  {
   "cell_type": "code",
   "execution_count": null,
   "id": "62428284-50e9-45b6-b987-bdc9eb8515e4",
   "metadata": {},
   "outputs": [],
   "source": [
    "cd ~/bash_tutorial"
   ]
  },
  {
   "cell_type": "code",
   "execution_count": null,
   "id": "0d6644cf-654e-4dca-8ddb-a288f47ab54d",
   "metadata": {},
   "outputs": [],
   "source": [
    "git init\n",
    "git add .\n",
    "git commit -m \"Initial commit: environment setup scripts\"git remote add origin https://<ALazyBaller>@github.com/<ALazyBaller>/env-setup.git\n",
    "\n",
    "# Replace with URL from GitHub\n",
    "\n",
    "git branch -M main\n",
    "git push -u origin main"
   ]
  },
  {
   "cell_type": "code",
   "execution_count": null,
   "id": "9f3654c0-724a-4eb1-ad2f-57c8731cbdd1",
   "metadata": {},
   "outputs": [],
   "source": [
    "git init\n",
    "git add .\n",
    "git commit -m \"Initial commit: environment setup scripts\"git remote add origin https://<Ahttps://github.com/ALazyBaller/env-setup.git>/env-setup.git\n",
    "\n",
    "# Replace with URL from GitHub\n",
    "\n",
    "git branch -M main\n",
    "git push -u origin main"
   ]
  },
  {
   "cell_type": "code",
   "execution_count": null,
   "id": "ff2c546b-28d9-4e8f-89dc-316c39396e86",
   "metadata": {},
   "outputs": [],
   "source": [
    "echo \"# env-setup\" >> README.md\n",
    "git init\n",
    "git add README.md\n",
    "git commit -m \"first commit\"\n",
    "git branch -M main\n",
    "git remote add origin https://github.com/ALazyBaller/env-setup.git\n",
    "git push -u origin main"
   ]
  },
  {
   "cell_type": "code",
   "execution_count": null,
   "id": "6d26dc0d-b701-48d0-9996-350436916906",
   "metadata": {},
   "outputs": [],
   "source": [
    "git remote add origin https://github.com/ALazyBaller/env-setup.git\n",
    "git branch -M main\n",
    "git push -u origin main"
   ]
  },
  {
   "cell_type": "code",
   "execution_count": 1,
   "id": "a8abf618-9744-4843-bfa3-02c0f1d147f7",
   "metadata": {},
   "outputs": [
    {
     "ename": "SyntaxError",
     "evalue": "invalid syntax (2153506088.py, line 1)",
     "output_type": "error",
     "traceback": [
      "\u001b[0;36m  Cell \u001b[0;32mIn[1], line 1\u001b[0;36m\u001b[0m\n\u001b[0;31m    git remote add origin https://github.com/ALazyBaller/env-setup.git\u001b[0m\n\u001b[0m        ^\u001b[0m\n\u001b[0;31mSyntaxError\u001b[0m\u001b[0;31m:\u001b[0m invalid syntax\n"
     ]
    }
   ],
   "source": [
    "git remote add origin https://github.com/ALazyBaller/env-setup.git\n",
    "git branch -M main\n",
    "git push -u origin main"
   ]
  },
  {
   "cell_type": "code",
   "execution_count": 1,
   "id": "6d4988c1-ac4c-43ff-8d7c-95b06c1d7d18",
   "metadata": {},
   "outputs": [
    {
     "ename": "ERROR",
     "evalue": "Error in parse(text = input): <text>:1:5: unexpected symbol\n1: git remote\n        ^\n",
     "output_type": "error",
     "traceback": [
      "Error in parse(text = input): <text>:1:5: unexpected symbol\n1: git remote\n        ^\nTraceback:\n"
     ]
    }
   ],
   "source": [
    "git remote add origin https://github.com/ALazyBaller/env-setup.git\n",
    "git branch -M main\n",
    "git push -u origin main"
   ]
  },
  {
   "cell_type": "code",
   "execution_count": 2,
   "id": "63274a79-8534-49a1-bd31-4a4ee6ac2552",
   "metadata": {},
   "outputs": [
    {
     "ename": "ERROR",
     "evalue": "Error in parse(text = input): <text>:1:5: unexpected '/'\n1: cd ~/\n        ^\n",
     "output_type": "error",
     "traceback": [
      "Error in parse(text = input): <text>:1:5: unexpected '/'\n1: cd ~/\n        ^\nTraceback:\n"
     ]
    }
   ],
   "source": [
    "cd ~/bash_tutorial"
   ]
  },
  {
   "cell_type": "code",
   "execution_count": 1,
   "id": "d39b9898-5e6f-4792-b4df-a71dbbab53a2",
   "metadata": {},
   "outputs": [
    {
     "name": "stdout",
     "output_type": "stream",
     "text": [
      "\u001b]777;preexec\u001b\\bash: cd: /users/PAS2797/omarw/bash_tutorial: No such file or directory\n"
     ]
    },
    {
     "ename": "",
     "evalue": "1",
     "output_type": "error",
     "traceback": []
    }
   ],
   "source": [
    "cd ~/bash_tutorial"
   ]
  },
  {
   "cell_type": "code",
   "execution_count": null,
   "id": "0526c2ea-d501-41ec-814f-ff72cf153004",
   "metadata": {},
   "outputs": [
    {
     "name": "stdout",
     "output_type": "stream",
     "text": [
      "\u001b]777;preexec\u001b\\\u001b[33mhint: Using 'master' as the name for the initial branch. This default branch name\u001b[m\n",
      "\u001b[33mhint: is subject to change. To configure the initial branch name to use in all\u001b[m\n",
      "\u001b[33mhint: of your new repositories, which will suppress this warning, call:\u001b[m\n",
      "\u001b[33mhint: \u001b[m\n",
      "\u001b[33mhint: \tgit config --global init.defaultBranch <name>\u001b[m\n",
      "\u001b[33mhint: \u001b[m\n",
      "\u001b[33mhint: Names commonly chosen instead of 'master' are 'main', 'trunk' and\u001b[m\n",
      "\u001b[33mhint: 'development'. The just-created branch can be renamed via this command:\u001b[m\n",
      "\u001b[33mhint: \u001b[m\n",
      "\u001b[33mhint: \tgit branch -m <name>\u001b[m\n",
      "Initialized empty Git repository in /users/PAS2797/omarw/.git/\n"
     ]
    }
   ],
   "source": [
    "git init\n",
    "git add .\n",
    "git commit -m \"Initial commit: environment setup scripts\""
   ]
  },
  {
   "cell_type": "code",
   "execution_count": null,
   "id": "2eb9d7c9-565f-4e71-9e71-4b84dadd8e92",
   "metadata": {},
   "outputs": [],
   "source": [
    "git remote add origin https://github.com/ALazyBaller/env-setup.git\n",
    "git branch -M main\n",
    "git push -u origin main"
   ]
  },
  {
   "cell_type": "code",
   "execution_count": null,
   "id": "9a9480c6-b5e4-4be6-b7d2-85cc8ffd8d42",
   "metadata": {},
   "outputs": [],
   "source": [
    "echo \"# env-setup\" >> README.md\n",
    "git init\n",
    "git add README.md\n",
    "git commit -m \"first commit\"\n",
    "git branch -M main\n",
    "git remote add origin https://github.com/ALazyBaller/env-setup.git\n",
    "git push -u origin main"
   ]
  },
  {
   "cell_type": "code",
   "execution_count": null,
   "id": "d4aa4d85-3428-4b35-8172-018063a87586",
   "metadata": {},
   "outputs": [],
   "source": [
    "git remote add origin https://github.com/ALazyBaller/env-setup.git\n",
    "git branch -M main\n",
    "git push -u origin main"
   ]
  },
  {
   "cell_type": "code",
   "execution_count": 1,
   "id": "22366f3e-2084-4f8a-b88a-c7410535c9ce",
   "metadata": {},
   "outputs": [
    {
     "name": "stdout",
     "output_type": "stream",
     "text": [
      "\u001b]777;preexec\u001b\\bash_tutorial.ipynb  hello_bash.ipynb  hello_python.ipynb  hello_r.ipynb\n"
     ]
    },
    {
     "ename": "",
     "evalue": "1",
     "output_type": "error",
     "traceback": []
    }
   ],
   "source": [
    "ls ~/bash_tutorial"
   ]
  },
  {
   "cell_type": "code",
   "execution_count": 2,
   "id": "27a22831-cfd0-4a41-8696-c8f8520566b1",
   "metadata": {},
   "outputs": [
    {
     "name": "stdout",
     "output_type": "stream",
     "text": [
      "\u001b]777;preexec\u001b\\\n",
      "\u001b]777;preexec\u001b\\\n",
      "\u001b]777;preexec\u001b\\[master 61bc71b3] Add Hello World notebooks for Bash, Python, and R\n",
      " Committer: Omar West <omarw@ascend-rw01.ten.osc.edu>\n",
      "Your name and email address were configured automatically based\n",
      "on your username and hostname. Please check that they are accurate.\n",
      "You can suppress this message by setting them explicitly. Run the\n",
      "following command and follow the instructions in your editor to edit\n",
      "your configuration file:\n",
      "\n",
      "    git config --global --edit\n",
      "\n",
      "After doing this, you may fix the identity used for this commit with:\n",
      "\n",
      "    git commit --amend --reset-author\n",
      "\n",
      " 4 files changed, 926 insertions(+)\n",
      " create mode 100644 bash_tutorial/bash_tutorial.ipynb\n",
      " create mode 100644 bash_tutorial/hello_bash.ipynb\n",
      " create mode 100644 bash_tutorial/hello_python.ipynb\n",
      " create mode 100644 bash_tutorial/hello_r.ipynb\n",
      "\u001b]777;preexec\u001b\\fatal: No configured push destination.\n",
      "Either specify the URL from the command-line or configure a remote repository using\n",
      "\n",
      "    git remote add <name> <url>\n",
      "\n",
      "and then push using the remote name\n",
      "\n",
      "    git push <name>\n",
      "\n"
     ]
    },
    {
     "ename": "",
     "evalue": "1",
     "output_type": "error",
     "traceback": []
    }
   ],
   "source": [
    "cd ~/bash_tutorial\n",
    "git add *.ipynb\n",
    "git commit -m \"Add Hello World notebooks for Bash, Python, and R\"\n",
    "git push"
   ]
  },
  {
   "cell_type": "code",
   "execution_count": 3,
   "id": "a60b61e9-38d0-4755-a58b-d6f51f6f77f8",
   "metadata": {},
   "outputs": [
    {
     "name": "stdout",
     "output_type": "stream",
     "text": [
      "The authenticity of host 'github.com (140.82.112.3)' can't be established.\n",
      "ED25519 key fingerprint is SHA256:+DiY3wvvV6TuJJhbpZisF/zLDA0zPMSvHdkr4UvCOqU.\n",
      "This key is not known by any other names\n",
      "Are you sure you want to continue connecting (yes/no/[fingerprint])? \n",
      "\n"
     ]
    }
   ],
   "source": [
    "ssh -T git@github.com"
   ]
  },
  {
   "cell_type": "code",
   "execution_count": 1,
   "id": "7eaad92a-45b1-4cac-b8d6-ea337529916b",
   "metadata": {},
   "outputs": [
    {
     "name": "stdout",
     "output_type": "stream",
     "text": [
      "\u001b]777;preexec\u001b\\bash: Yes: command not found...\n",
      "Similar command is: 'yes'\n"
     ]
    },
    {
     "ename": "",
     "evalue": "1",
     "output_type": "error",
     "traceback": []
    }
   ],
   "source": [
    "Yes"
   ]
  },
  {
   "cell_type": "code",
   "execution_count": 2,
   "id": "3948061f-4c09-4a37-b7a6-f1da647d5e93",
   "metadata": {},
   "outputs": [
    {
     "name": "stdout",
     "output_type": "stream",
     "text": [
      "\u001b]777;preexec\u001b\\error: remote origin already exists.\n"
     ]
    },
    {
     "ename": "",
     "evalue": "1",
     "output_type": "error",
     "traceback": []
    }
   ],
   "source": [
    "git remote add origin git@github.com:ALazyBaller/bash_tutorial.git\n"
   ]
  },
  {
   "cell_type": "code",
   "execution_count": 3,
   "id": "51bb916c-ba4e-4c3f-9087-c4e9cf8697f8",
   "metadata": {},
   "outputs": [
    {
     "name": "stdout",
     "output_type": "stream",
     "text": [
      "\u001b]777;preexec\u001b\\origin\tgit@github.com:ALazyBaller/bash_tutorial.git (fetch)\n",
      "origin\tgit@github.com:ALazyBaller/bash_tutorial.git (push)\n"
     ]
    },
    {
     "ename": "",
     "evalue": "1",
     "output_type": "error",
     "traceback": []
    }
   ],
   "source": [
    "git remote -v"
   ]
  },
  {
   "cell_type": "code",
   "execution_count": 4,
   "id": "e50e0271-408f-4d19-9ec2-e8e3f1db67cc",
   "metadata": {},
   "outputs": [
    {
     "name": "stdout",
     "output_type": "stream",
     "text": [
      "The authenticity of host 'github.com (140.82.112.3)' can't be established.\n",
      "ED25519 key fingerprint is SHA256:+DiY3wvvV6TuJJhbpZisF/zLDA0zPMSvHdkr4UvCOqU.\n",
      "This key is not known by any other names\n",
      "Are you sure you want to continue connecting (yes/no/[fingerprint])? \n",
      "\n"
     ]
    }
   ],
   "source": [
    "git push -u origin master\n"
   ]
  },
  {
   "cell_type": "code",
   "execution_count": 1,
   "id": "d41f76ae-6e6c-4a6b-a8bf-41d335041cfb",
   "metadata": {},
   "outputs": [
    {
     "name": "stdout",
     "output_type": "stream",
     "text": [
      "\u001b]777;preexec\u001b\\\n",
      "\u001b]777;preexec\u001b\\\n",
      "\u001b]777;preexec\u001b\\[master d35dabed] Add Hello World notebooks for Bash, Python, and R\n",
      " Committer: Omar West <omarw@ascend-rw01.ten.osc.edu>\n",
      "Your name and email address were configured automatically based\n",
      "on your username and hostname. Please check that they are accurate.\n",
      "You can suppress this message by setting them explicitly. Run the\n",
      "following command and follow the instructions in your editor to edit\n",
      "your configuration file:\n",
      "\n",
      "    git config --global --edit\n",
      "\n",
      "After doing this, you may fix the identity used for this commit with:\n",
      "\n",
      "    git commit --amend --reset-author\n",
      "\n",
      " 2 files changed, 200 insertions(+), 2 deletions(-)\n",
      "\u001b]777;preexec\u001b\\fatal: The current branch master has no upstream branch.\n",
      "To push the current branch and set the remote as upstream, use\n",
      "\n",
      "    git push --set-upstream origin master\n",
      "\n",
      "To have this happen automatically for branches without a tracking\n",
      "upstream, see 'push.autoSetupRemote' in 'git help config'.\n",
      "\n"
     ]
    },
    {
     "ename": "",
     "evalue": "1",
     "output_type": "error",
     "traceback": []
    }
   ],
   "source": [
    "cd ~/bash_tutorial\n",
    "git add *.ipynb\n",
    "git commit -m \"Add Hello World notebooks for Bash, Python, and R\"\n",
    "git push"
   ]
  }
 ],
 "metadata": {
  "kernelspec": {
   "display_name": "Bash",
   "language": "bash",
   "name": "bash"
  },
  "language_info": {
   "codemirror_mode": "shell",
   "file_extension": ".sh",
   "mimetype": "text/x-sh",
   "name": "bash"
  }
 },
 "nbformat": 4,
 "nbformat_minor": 5
}
