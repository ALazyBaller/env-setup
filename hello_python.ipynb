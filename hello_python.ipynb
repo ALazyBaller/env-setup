{
 "cells": [
  {
   "cell_type": "markdown",
   "id": "9ecb4f79-9d16-4e89-acb4-e1de642b6f6c",
   "metadata": {},
   "source": [
    "# Hello World in Python\n",
    "This notebook demonstrates a simple \"Hello, World!\" script in Python."
   ]
  },
  {
   "cell_type": "code",
   "execution_count": 1,
   "id": "31fd0474-9324-4ef9-99eb-a9fa16edecfb",
   "metadata": {},
   "outputs": [
    {
     "name": "stdout",
     "output_type": "stream",
     "text": [
      "Hello, World from Python!\n"
     ]
    }
   ],
   "source": [
    "print(\"Hello, World from Python!\")"
   ]
  },
  {
   "cell_type": "code",
   "execution_count": null,
   "id": "e913387f-73b7-419c-b5b3-da3ea6d4c392",
   "metadata": {},
   "outputs": [],
   "source": []
  }
 ],
 "metadata": {
  "kernelspec": {
   "display_name": "Python 3 (ipykernel)",
   "language": "python",
   "name": "python3"
  },
  "language_info": {
   "codemirror_mode": {
    "name": "ipython",
    "version": 3
   },
   "file_extension": ".py",
   "mimetype": "text/x-python",
   "name": "python",
   "nbconvert_exporter": "python",
   "pygments_lexer": "ipython3",
   "version": "3.10.18"
  }
 },
 "nbformat": 4,
 "nbformat_minor": 5
}
